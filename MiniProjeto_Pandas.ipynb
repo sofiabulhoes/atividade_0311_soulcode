{
  "nbformat": 4,
  "nbformat_minor": 0,
  "metadata": {
    "colab": {
      "name": "MiniProjeto_Pandas.ipynb",
      "provenance": [],
      "mount_file_id": "1LTF9Hzhv0SMMZy_dkFoaNSajxgZn2WE-",
      "authorship_tag": "ABX9TyMGpIljNaPYr5T+Rxfq1oUj",
      "include_colab_link": true
    },
    "kernelspec": {
      "name": "python3",
      "display_name": "Python 3"
    },
    "language_info": {
      "name": "python"
    }
  },
  "cells": [
    {
      "cell_type": "markdown",
      "metadata": {
        "id": "view-in-github",
        "colab_type": "text"
      },
      "source": [
        "<a href=\"https://colab.research.google.com/github/sofiabulhoes/atividade_0311_soulcode/blob/main/MiniProjeto_Pandas.ipynb\" target=\"_parent\"><img src=\"https://colab.research.google.com/assets/colab-badge.svg\" alt=\"Open In Colab\"/></a>"
      ]
    },
    {
      "cell_type": "markdown",
      "metadata": {
        "id": "ezOFD5OZs9YG"
      },
      "source": [
        "Importando a biblioteca pandas para uso no dataframe"
      ]
    },
    {
      "cell_type": "code",
      "metadata": {
        "id": "WVtNuJPbsHKr"
      },
      "source": [
        "import pandas as pd"
      ],
      "execution_count": 1,
      "outputs": []
    },
    {
      "cell_type": "markdown",
      "metadata": {
        "id": "YYUIjXScuM1o"
      },
      "source": [
        "Importando os dados, configurando a data e setando o separador"
      ]
    },
    {
      "cell_type": "code",
      "metadata": {
        "id": "s7RHiWSrtCso"
      },
      "source": [
        "df = pd.read_csv('/content/drive/MyDrive/EngDADOS/MiniProjeto/marketing_campaign.csv - marketing_campaign.csv.csv', sep=',', parse_dates=['Dt_Customer'], dayfirst=True)\n"
      ],
      "execution_count": 111,
      "outputs": []
    },
    {
      "cell_type": "markdown",
      "metadata": {
        "id": "7St6BI3oFDxS"
      },
      "source": [
        "Realizando Drop nas colunas que não serão usadas"
      ]
    },
    {
      "cell_type": "code",
      "metadata": {
        "id": "9HWwEO8uDnQr"
      },
      "source": [
        "df.drop('Z_CostContact', axis=1, inplace=True)\n",
        "df.drop('Z_Revenue', axis=1, inplace=True)"
      ],
      "execution_count": 112,
      "outputs": []
    },
    {
      "cell_type": "markdown",
      "metadata": {
        "id": "C4fO5kzgFT5d"
      },
      "source": [
        "Renomeando os nomes das colunas realizando a tradução para o português"
      ]
    },
    {
      "cell_type": "code",
      "metadata": {
        "id": "LJG6x249uzd5"
      },
      "source": [
        "df.rename(columns={'Year_Birth': 'Ano_Nascimento', 'Education': 'Educacao', 'Marital_Status':'Estado_civil', 'Income': 'Renda' ,'Kidhome':'Criancas_EmCasa', 'Teenhome': 'Adolesc_EmCasa', 'Dt_Customer':'Dt_Cliente','Recency': 'Recencia', 'MntWines':'MntVinhos', 'MntFruits': 'MntFrutas', 'MntMeatProducts': \"MntProdutosDeCarne\" , 'MntFishProducts': 'MntPrdutosDePeixe', 'MntSweetProducts': 'MntProdutosDoces', '\tMntGoldProds':'MntProdDeOuro', 'NumDealsPurchases': 'NumComprasPromocao', 'NumWebPurchases': 'NumWebCompras', 'NumCatalogPurchases': 'NumComprasCatalogo' , 'NumStorePurchases': 'NumeroComprasEmLoja', 'NumWebVisitsMonth':'NumWebVisitas_Mes', 'AcceptedCmp3':'CmpAceito3', 'AcceptedCmp4':'CmpAceito4', 'AcceptedCmp5':'CmpAceito5', 'AcceptedCmp1':'CmpAceito1', 'AcceptedCmp2':'CmpAceito2', 'Complain':'Reclamacao', 'Response':'Resposta' }, inplace=True)\n",
        "\n"
      ],
      "execution_count": 113,
      "outputs": []
    },
    {
      "cell_type": "markdown",
      "metadata": {
        "id": "1xDY8V3UFZlM"
      },
      "source": [
        "Realizando a tradução dos dados e a normalização de dados para a coluna 'Estado_Civil' (Previmanete realizado o comando df[columnname].unique() para averiguar os dados contidos)"
      ]
    },
    {
      "cell_type": "code",
      "metadata": {
        "id": "1sPK3sbZw3hd"
      },
      "source": [
        "df['Estado_civil'].replace('Single', 'Solteiro(a)', inplace=True)\n",
        "df['Estado_civil'].replace('Absurd', 'Solteiro(a)', inplace=True)\n",
        "df['Estado_civil'].replace('YOLO', 'Solteiro(a)', inplace=True)\n",
        "df['Estado_civil'].replace('Together', 'Juntado(a)', inplace=True)\n",
        "df['Estado_civil'].replace('Divorced', 'Divorciado(a)', inplace=True)\n",
        "df['Estado_civil'].replace('Married', 'Casado(a)', inplace=True)\n",
        "df['Estado_civil'].replace('Widow', 'Viuvo(a)', inplace=True)\n",
        "df['Estado_civil'].replace('Alone', 'Solteiro(a)', inplace=True)\n"
      ],
      "execution_count": 114,
      "outputs": []
    },
    {
      "cell_type": "markdown",
      "metadata": {
        "id": "Mhp3_ZgmGpHR"
      },
      "source": [
        "Realizando a tradução dos dados e a normalização de dados para a coluna 'Educacao' (Previmanete realizado o comando df[columnname].unique() para averiguar os dados contidos)"
      ]
    },
    {
      "cell_type": "code",
      "metadata": {
        "id": "hcrphxekF7vt"
      },
      "source": [
        "df['Educacao'].replace('Master', 'Mestre', inplace=True)\n",
        "df['Educacao'].replace('Master', 'Mestre', inplace=True)\n",
        "df['Educacao'].replace('Basic', 'Basico', inplace=True)\n",
        "df['Educacao'].replace('Graduation', 'Graduação', inplace=True)\n",
        "df['Educacao'].replace('2n Cycle', 'Ciclo 2n', inplace=True)"
      ],
      "execution_count": 115,
      "outputs": []
    },
    {
      "cell_type": "markdown",
      "metadata": {
        "id": "t0k3QDnpGsiO"
      },
      "source": [
        "Realizando a tradução dos dados e a normalização de dados para as colunas de Cmp (Previmanete realizado o comando df[columnname].unique() para averiguar os dados contidos)"
      ]
    },
    {
      "cell_type": "code",
      "metadata": {
        "id": "srcDOpQ9F_y9"
      },
      "source": [
        "df['CmpAceito3'].replace(0, 'Nao', inplace=True)\n",
        "df['CmpAceito3'].replace(1, 'Sim', inplace=True)\n",
        "df['CmpAceito4'].replace(0, 'Nao', inplace=True)\n",
        "df['CmpAceito4'].replace(1, 'Sim', inplace=True)\n",
        "df['CmpAceito5'].replace(0, 'Nao', inplace=True)\n",
        "df['CmpAceito5'].replace(1, 'Sim', inplace=True)\n",
        "df['CmpAceito1'].replace(0, 'Nao', inplace=True)\n",
        "df['CmpAceito1'].replace(1, 'Sim', inplace=True)\n",
        "df['CmpAceito2'].replace(0, 'Nao', inplace=True)\n",
        "df['CmpAceito2'].replace(1, 'Sim', inplace=True)"
      ],
      "execution_count": 116,
      "outputs": []
    },
    {
      "cell_type": "markdown",
      "metadata": {
        "id": "bvyO89BTGxD8"
      },
      "source": [
        "Realizando a tradução dos dados e a normalização de dados para a coluna 'Resposta' (Previmanete realizado o comando df[columnname].unique() para averiguar os dados contidos)"
      ]
    },
    {
      "cell_type": "code",
      "metadata": {
        "id": "z8IP1njrGUDP"
      },
      "source": [
        "df['Resposta'].replace(1, 'Sim', inplace=True)\n",
        "df['Resposta'].replace(0, 'Nao', inplace=True)"
      ],
      "execution_count": 117,
      "outputs": []
    },
    {
      "cell_type": "markdown",
      "metadata": {
        "id": "Xcqwd-oDGzo2"
      },
      "source": [
        "Realizando a tradução dos dados e a normalização de dados para a coluna 'Reclamacao' (Previmanete realizado o comando df[columnname].unique() para averiguar os dados contidos)"
      ]
    },
    {
      "cell_type": "code",
      "metadata": {
        "id": "2TJmQqegGVim"
      },
      "source": [
        "df['Reclamacao'].replace(0, 'Nao', inplace=True)\n",
        "df['Reclamacao'].replace(1, 'Sim', inplace=True)"
      ],
      "execution_count": 118,
      "outputs": []
    },
    {
      "cell_type": "markdown",
      "metadata": {
        "id": "rOzkHfGVG6ec"
      },
      "source": [
        "Verificando a existencia de linhas nulas em cada coluna do DF"
      ]
    },
    {
      "cell_type": "code",
      "metadata": {
        "id": "F0EOaEupAWsq"
      },
      "source": [
        "df.isnull().sum()"
      ],
      "execution_count": null,
      "outputs": []
    },
    {
      "cell_type": "markdown",
      "metadata": {
        "id": "4etQ5tfKHAUs"
      },
      "source": [
        "Realizando a exclusão dos dados nulos"
      ]
    },
    {
      "cell_type": "code",
      "metadata": {
        "id": "eij-KbycA1vT"
      },
      "source": [
        "df.dropna(axis=0, inplace = True)"
      ],
      "execution_count": 120,
      "outputs": []
    },
    {
      "cell_type": "markdown",
      "metadata": {
        "id": "1gCIjwdJHLWO"
      },
      "source": [
        "Verificando a limpeza dos dados"
      ]
    },
    {
      "cell_type": "code",
      "metadata": {
        "id": "3NgpgGG6CBNB"
      },
      "source": [
        "df.isnull().sum()"
      ],
      "execution_count": null,
      "outputs": []
    },
    {
      "cell_type": "markdown",
      "metadata": {
        "id": "f81yHGxrHNsY"
      },
      "source": [
        "Mostrando o dataframe final"
      ]
    },
    {
      "cell_type": "code",
      "metadata": {
        "id": "m72t8DQSCVlo"
      },
      "source": [
        "df"
      ],
      "execution_count": null,
      "outputs": []
    }
  ]
}