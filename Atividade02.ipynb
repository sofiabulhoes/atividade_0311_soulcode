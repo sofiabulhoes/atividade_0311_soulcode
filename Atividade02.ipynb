{
  "nbformat": 4,
  "nbformat_minor": 0,
  "metadata": {
    "colab": {
      "name": "Atividade02.ipynb",
      "provenance": [],
      "mount_file_id": "1PcNw7bh4QUatxLnAdlN6Hki82NmcWNYv",
      "authorship_tag": "ABX9TyMbFNTjxYxVAVomLvvqe0NB",
      "include_colab_link": true
    },
    "kernelspec": {
      "name": "python3",
      "display_name": "Python 3"
    },
    "language_info": {
      "name": "python"
    }
  },
  "cells": [
    {
      "cell_type": "markdown",
      "metadata": {
        "id": "view-in-github",
        "colab_type": "text"
      },
      "source": [
        "<a href=\"https://colab.research.google.com/github/sofiabulhoes/atividade_0311_soulcode/blob/main/Atividade02.ipynb\" target=\"_parent\"><img src=\"https://colab.research.google.com/assets/colab-badge.svg\" alt=\"Open In Colab\"/></a>"
      ]
    },
    {
      "cell_type": "code",
      "metadata": {
        "id": "tgTdL32KZa2d"
      },
      "source": [
        "!pip install pyspark"
      ],
      "execution_count": null,
      "outputs": []
    },
    {
      "cell_type": "code",
      "metadata": {
        "id": "uuPW0F-Fbymg"
      },
      "source": [
        "\n",
        "from pyspark.sql import SparkSession\n",
        "import pyspark.sql.functions as F\n",
        "from pyspark.sql.window import Window as W"
      ],
      "execution_count": 33,
      "outputs": []
    },
    {
      "cell_type": "code",
      "metadata": {
        "id": "vrJr60oPb9ZY"
      },
      "source": [
        "spark = (SparkSession.builder\\\n",
        "        .master(\"local\")\\\n",
        "        .appName(\"aprendendo-dataframes\")\\\n",
        "        .config(\"spark.ui.port\", \"4050\")\\\n",
        "        .getOrCreate())"
      ],
      "execution_count": 4,
      "outputs": []
    },
    {
      "cell_type": "code",
      "metadata": {
        "id": "oCye4BL8bzRO"
      },
      "source": [
        "df = (spark\n",
        "      .read\n",
        "      .format(\"csv\")\n",
        "      .option(\"header\", \"true\")\n",
        "      .option(\"inferschema\", \"true\")\n",
        "      .option(\"delimiter\", \",\")\n",
        "      .load(\"/content/drive/MyDrive/EngDADOS/countries_general_info_historical.24-10-2021.csv\")\n",
        ")\n",
        "df.show()"
      ],
      "execution_count": null,
      "outputs": []
    },
    {
      "cell_type": "markdown",
      "metadata": {
        "id": "K-LULFmzcMGA"
      },
      "source": [
        "**1) Renomear alguma coluna**"
      ]
    },
    {
      "cell_type": "code",
      "metadata": {
        "id": "Xj0-OKHOcJhH"
      },
      "source": [
        "df = df.withColumnRenamed('NativeName','NomeNativo').withColumnRenamed('Name','Nome')\n",
        "df.show()"
      ],
      "execution_count": null,
      "outputs": []
    },
    {
      "cell_type": "markdown",
      "metadata": {
        "id": "gQp53KJRdnOM"
      },
      "source": [
        "**2) Mostrar os países que possuam população maior que 10 milhões de habitantes em 2012**"
      ]
    },
    {
      "cell_type": "code",
      "metadata": {
        "id": "_SBsbEuzds9y"
      },
      "source": [
        "df.select(F.col(\"Nome\"), F.col(\"Population, 2012\")).where(F.col(\"Population, 2012\") > 10000000).show()"
      ],
      "execution_count": null,
      "outputs": []
    },
    {
      "cell_type": "markdown",
      "metadata": {
        "id": "7MmdRIVWfOj4"
      },
      "source": [
        "**3) Mostrar todos os dados apenas dos países que comecem com a letra B**"
      ]
    },
    {
      "cell_type": "code",
      "metadata": {
        "id": "IwETYY-VfRpe"
      },
      "source": [
        "#df.select(F.col('Nome')).where(F.col(\"Nome\").like(\"B%\")).show() mostrando só os nomes\n",
        "df.filter(F.col(\"Nome\").like(\"B%\")).show()"
      ],
      "execution_count": null,
      "outputs": []
    },
    {
      "cell_type": "markdown",
      "metadata": {
        "id": "mt4Ryt23gHqB"
      },
      "source": [
        "**4) Criar um ranking de países por quantidade de habitantes (Do maior para o menor)**"
      ]
    },
    {
      "cell_type": "code",
      "metadata": {
        "id": "CNzUhyUjgKm9"
      },
      "source": [
        "w0 = W.orderBy(F.col('Population, 2019').desc())\n",
        "df.withColumn('rank', F.rank().over(w0)).show()"
      ],
      "execution_count": null,
      "outputs": []
    },
    {
      "cell_type": "markdown",
      "metadata": {
        "id": "mElstIwrjDS1"
      },
      "source": [
        "**5) Criar uma nova coluna com a seguinte informação: Caso o país tenha mais que 1 milhão de habitantes, colocar o texto “População com mais de 1 milhão de habitantes”. Caso contrário, colocar o texto: “População com menos de 1 milhão de habitantes”**"
      ]
    },
    {
      "cell_type": "code",
      "metadata": {
        "id": "llMmlRARjCtK"
      },
      "source": [
        "df.withColumn('M_habitantes', F.when(F.col('Population, 2019') > 1000000, \"População com mais de 1 milhões de habitante \").otherwise(\"População com menos de 1 milhão de habitantes\")).show()"
      ],
      "execution_count": null,
      "outputs": []
    },
    {
      "cell_type": "markdown",
      "metadata": {
        "id": "AeXS0_L7lGsa"
      },
      "source": [
        "# Finalizado!"
      ]
    }
  ]
}