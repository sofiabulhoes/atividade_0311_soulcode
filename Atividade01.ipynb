{
  "nbformat": 4,
  "nbformat_minor": 0,
  "metadata": {
    "colab": {
      "name": "Atividade01.ipynb",
      "provenance": [],
      "authorship_tag": "ABX9TyOyWDzoisaOzhyrIAnikN0F",
      "include_colab_link": true
    },
    "kernelspec": {
      "name": "python3",
      "display_name": "Python 3"
    },
    "language_info": {
      "name": "python"
    }
  },
  "cells": [
    {
      "cell_type": "markdown",
      "metadata": {
        "id": "view-in-github",
        "colab_type": "text"
      },
      "source": [
        "<a href=\"https://colab.research.google.com/github/sofiabulhoes/atividades_soulcode/blob/main/Atividade01.ipynb\" target=\"_parent\"><img src=\"https://colab.research.google.com/assets/colab-badge.svg\" alt=\"Open In Colab\"/></a>"
      ]
    },
    {
      "cell_type": "code",
      "metadata": {
        "id": "RKd5tWhJAKO-"
      },
      "source": [
        "!pip install pyspark"
      ],
      "execution_count": null,
      "outputs": []
    },
    {
      "cell_type": "code",
      "metadata": {
        "id": "y7e5zwJJA9qS"
      },
      "source": [
        "from pyspark.sql import SparkSession\n",
        "import pyspark.sql.functions as F\n",
        "from pyspark.sql.window import Window"
      ],
      "execution_count": 6,
      "outputs": []
    },
    {
      "cell_type": "code",
      "metadata": {
        "id": "OpiffxCoBDnh"
      },
      "source": [
        "spark = (SparkSession.builder\\\n",
        "        .master(\"local\")\\\n",
        "        .appName(\"aprendendo-dataframes\")\\\n",
        "        .config(\"spark.ui.port\", \"4050\")\\\n",
        "        .getOrCreate())"
      ],
      "execution_count": 8,
      "outputs": []
    },
    {
      "cell_type": "code",
      "metadata": {
        "id": "JIz5aSYtBLh0"
      },
      "source": [
        "\n",
        "dados = [\n",
        "          (1,'Bob', 45,'M'),\n",
        "          (2,'Gloria', 43, 'F'),\n",
        "          (4,'Albert',28,'M'),\n",
        "          (5,'Laura',33,'F'),\n",
        "          (8,'Simone', 18,'T'),\n",
        "          (12,'Marta',45,'F'),\n",
        "          (45,'Jairo', 82,'M'),\n",
        "          (13,'Teste', 38,'T')\n",
        "]\n",
        "\n",
        "schema = ['id', 'nome', 'idade', 'genero']\n",
        "\n",
        "df = spark.createDataFrame(data=dados, schema=schema)\n",
        "df.show()\n",
        "df.printSchema()"
      ],
      "execution_count": null,
      "outputs": []
    },
    {
      "cell_type": "markdown",
      "metadata": {
        "id": "_zOq85-tR04d"
      },
      "source": [
        "**1) Verifique as pessoas com idade superior a 30 anos**"
      ]
    },
    {
      "cell_type": "code",
      "metadata": {
        "id": "J9s-rI6NDNms"
      },
      "source": [
        "df.filter(F.col('idade')>30).show()"
      ],
      "execution_count": null,
      "outputs": []
    },
    {
      "cell_type": "markdown",
      "metadata": {
        "id": "4sqGQO1VR6TA"
      },
      "source": [
        "**2) Verificar apenas as pessoas do sexo F**"
      ]
    },
    {
      "cell_type": "code",
      "metadata": {
        "id": "tU_gAEPjE4hc"
      },
      "source": [
        "df.filter(F.col('genero') == 'F').show()"
      ],
      "execution_count": null,
      "outputs": []
    },
    {
      "cell_type": "markdown",
      "metadata": {
        "id": "AS8RQi4vR8US"
      },
      "source": [
        "**3) Verifique a quantidade de pessoas por sexo**"
      ]
    },
    {
      "cell_type": "code",
      "metadata": {
        "id": "PpRetMeuFs0v"
      },
      "source": [
        "df.groupBy(F.col('genero')).count().show()"
      ],
      "execution_count": null,
      "outputs": []
    },
    {
      "cell_type": "markdown",
      "metadata": {
        "id": "oXEBTtKXSMRv"
      },
      "source": [
        "**4) Calcular a média de idade das pessoas**"
      ]
    },
    {
      "cell_type": "code",
      "metadata": {
        "id": "TCU3DJnFSOqy"
      },
      "source": [
        "#df.groupBy().mean('idade').show()\n",
        "media = df.select(F.mean('idade')).collect()[0][0]\n",
        "print(f'Média das idades: {media:.2f}')"
      ],
      "execution_count": null,
      "outputs": []
    },
    {
      "cell_type": "markdown",
      "metadata": {
        "id": "c19feTdITv4T"
      },
      "source": [
        "**5) Fazer uma seleção apenas do nome e idade das pessoas ordenando por nome**"
      ]
    },
    {
      "cell_type": "code",
      "metadata": {
        "id": "rKF3Fb_LT0Og"
      },
      "source": [
        "df.select(F.col('nome'), F.col('idade')).orderBy('nome').show()"
      ],
      "execution_count": null,
      "outputs": []
    },
    {
      "cell_type": "markdown",
      "metadata": {
        "id": "YQ07sfDQUGeT"
      },
      "source": [
        "**6) Mostrar um ranking de pessoas por idade (Do mais novo para o mais velho)**"
      ]
    },
    {
      "cell_type": "code",
      "metadata": {
        "id": "_bTiJyYwUJZU"
      },
      "source": [
        "w1 =  Window.orderBy('idade')\n",
        "df.withColumn('rank', F.row_number().over(w1)).show()"
      ],
      "execution_count": null,
      "outputs": []
    },
    {
      "cell_type": "markdown",
      "metadata": {
        "id": "C8s5eQD5UYDF"
      },
      "source": [
        "# Finalizado!"
      ]
    }
  ]
}